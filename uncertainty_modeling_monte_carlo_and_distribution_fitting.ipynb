{
  "cells": [
    {
      "cell_type": "markdown",
      "id": "ae49e7f0",
      "metadata": {
        "id": "ae49e7f0"
      },
      "source": [
        "# Modeling Uncertainty with Monte Carlo Simulation and Distribution Fitting\n",
        "\n",
        "In this notebook, we will explore two distinct but related approaches to understanding and modeling uncertainty in data:\n",
        "- **Monte Carlo Simulation** for estimating probabilities\n",
        "- **Distribution Fitting** to model data and estimate unknown parameters\n",
        "\n",
        "By leveraging these methods, we gain insights into both discrete probability scenarios and continuous data distributions, demonstrating powerful techniques for data analysis."
      ]
    },
    {
      "cell_type": "markdown",
      "id": "df7bbf49",
      "metadata": {
        "id": "df7bbf49"
      },
      "source": [
        "## Part 1: Probability Estimation via Monte Carlo Simulation\n",
        "\n",
        "Monte Carlo simulation is a technique that uses random sampling to estimate probabilities. Here, we apply it to simulate coin-tossing experiments, assessing outcomes over numerous trials.\n",
        "\n",
        "### Import Required Libraries"
      ]
    },
    {
      "cell_type": "markdown",
      "id": "6b264637",
      "metadata": {
        "id": "6b264637"
      },
      "source": [
        "# Probability in Python\n",
        "\n",
        "## Importing Packages\n",
        "At first we are going to import RANDOM module.\n",
        "\n"
      ]
    },
    {
      "cell_type": "code",
      "execution_count": 1,
      "id": "d6328723",
      "metadata": {
        "id": "d6328723"
      },
      "outputs": [],
      "source": [
        "import random\n"
      ]
    },
    {
      "cell_type": "markdown",
      "id": "5c4bdd58",
      "metadata": {
        "id": "5c4bdd58"
      },
      "source": [
        "## Defining a Coin Toss Function\n",
        "We are defining a variable \"flip_coin\" to create the properties of getting 2 Tails and 3 Heads while tossing a coin 5 times."
      ]
    },
    {
      "cell_type": "code",
      "execution_count": 2,
      "id": "b237552f",
      "metadata": {
        "id": "b237552f"
      },
      "outputs": [],
      "source": [
        "def flip_coin():\n",
        "    return random.choice(['Heads', 'Tails'])\n",
        "\n"
      ]
    },
    {
      "cell_type": "markdown",
      "id": "0539050d",
      "metadata": {
        "id": "0539050d"
      },
      "source": [
        "\n",
        "\n",
        "```\n",
        "# This is formatted as code\n",
        "```\n",
        "\n",
        "**Estimating probabilty by simulation - MONTE CARLO:**\n",
        "\n",
        "Monte Carlo simulation is a technique that uses random sampling to estimate numerical results. The formula for estimating probability using Monte Carlo simulation is quite simple. It involves the ratio of favorable outcomes to the total number of trials:\n",
        "\n",
        "\n",
        "Probability = Number of Favorable Outcomes / Total Number of Trials\n",
        "\n",
        "​\n",
        "\n",
        "In the context of Monte Carlo simulation, the steps are as follows:\n",
        "\n",
        "1. Define a system or process that involves randomness.\n",
        "2. Simulate this system multiple times using random sampling.\n",
        "3. Count occurrences of the favorable outcome.\n",
        "4. Calculate probability by dividing favorable outcomes by total trials.\n",
        "\n",
        "\n",
        "\n",
        "In Python, when conducting a Monte Carlo simulation, the formula is implemented in code by counting the occurrences of a specific condition (favorable outcome) during the simulation and dividing it by the total number of trials.\n",
        "\n",
        "# Estimating probability by simulation - Monte Carlo\n",
        "\n",
        "The probability of an event $A$ can be estimated as follows. We can simulate the experiment repeatedly and independently, say $N$ times, and count the number of times the event occurred, say $N_A$.\n",
        "\n",
        "A good estimate of $P(A)$ is the following:\n",
        "$$P(A) \\approx \\frac{N_A}{N}$$\n",
        "As $N$ grows larger and larger, the estimate becomes better and better. This method is generally termed as Monte Carlo simulation.\n",
        "\n",
        "We will first evaluate probability of coin toss described above using Monte Carlo simulations. There are two steps: generate a large number of tosses and count the number of heads or tails. These two steps can be written in a single loop usually.\n",
        "\n",
        "You should run the simulation multiple times to see what probability estimate is obtained each time. You will see that the estimate is close to 0.5.\n"
      ]
    },
    {
      "cell_type": "markdown",
      "id": "d0cb9126",
      "metadata": {
        "id": "d0cb9126"
      },
      "source": [
        "## Part 2: Distribution Fitting to Model Data\n",
        "\n",
        "After simulating data with Monte Carlo techniques, we may want to fit our data to known distributions to estimate parameters and make predictions. This section covers steps to fit distributions and estimate parameters, using the Gamma distribution as an example.\n",
        "\n",
        "### Objectives\n",
        "\n",
        "- **Plot a histogram** for the generated data.\n",
        "- **Fit a known distribution** (e.g., Gamma) to the data.\n",
        "- **Estimate parameters** using different methods.\n",
        "- **Construct confidence intervals** for estimated parameters.\n",
        "### Import Required Libraries"
      ]
    },
    {
      "cell_type": "code",
      "execution_count": 3,
      "id": "43e93d30",
      "metadata": {
        "id": "43e93d30"
      },
      "outputs": [],
      "source": [
        "import numpy as np\n",
        "import scipy.stats as st\n",
        "import pandas as pd\n",
        "import matplotlib.pyplot as plt"
      ]
    },
    {
      "cell_type": "markdown",
      "id": "e4d0e278",
      "metadata": {
        "id": "e4d0e278"
      },
      "source": [
        "## Generate Gamma Distribution Data\n",
        "\n",
        "Here, we create a dataset based on a Gamma distribution. This will allow us to test our distribution fitting process.\n"
      ]
    },
    {
      "cell_type": "code",
      "execution_count": 4,
      "id": "142adc1a",
      "metadata": {
        "id": "142adc1a"
      },
      "outputs": [],
      "source": [
        "# # Set the shape and scale parameters of the gamma distribution\n",
        "\n",
        "# shape = 2\n",
        "# scale = 3\n",
        "\n",
        "# # Generate a scores dataset of size n with the gamma distribution\n",
        "# n = 1000\n",
        "# scores = np.random.gamma(shape, scale, n)"
      ]
    },
    {
      "cell_type": "markdown",
      "id": "49098596",
      "metadata": {
        "id": "49098596"
      },
      "source": [
        "## Step 3: Transform Data to DataFrame\n",
        "\n",
        "To facilitate analysis, we'll convert our data into a DataFrame format.\n"
      ]
    },
    {
      "cell_type": "code",
      "execution_count": 5,
      "id": "8e7ff9a2",
      "metadata": {
        "id": "8e7ff9a2"
      },
      "outputs": [],
      "source": [
        "# df = pd.DataFrame(scores)\n",
        "# df"
      ]
    },
    {
      "cell_type": "markdown",
      "id": "01a5b4e3",
      "metadata": {
        "id": "01a5b4e3"
      },
      "source": [
        "# Extracting as .xlsx File"
      ]
    },
    {
      "cell_type": "markdown",
      "id": "f6362739",
      "metadata": {
        "id": "f6362739"
      },
      "source": [
        "We  will now run This cell and Then Upload your downloaded data file"
      ]
    },
    {
      "cell_type": "code",
      "execution_count": 6,
      "id": "0a075b29",
      "metadata": {
        "colab": {
          "base_uri": "https://localhost:8080/",
          "height": 480
        },
        "id": "0a075b29",
        "outputId": "8f9c8504-0625-4d56-a645-8f9f501cb960"
      },
      "outputs": [
        {
          "output_type": "display_data",
          "data": {
            "text/plain": [
              "<IPython.core.display.HTML object>"
            ],
            "text/html": [
              "\n",
              "     <input type=\"file\" id=\"files-bcc34e1c-f30c-4ae5-a701-c910ede89659\" name=\"files[]\" multiple disabled\n",
              "        style=\"border:none\" />\n",
              "     <output id=\"result-bcc34e1c-f30c-4ae5-a701-c910ede89659\">\n",
              "      Upload widget is only available when the cell has been executed in the\n",
              "      current browser session. Please rerun this cell to enable.\n",
              "      </output>\n",
              "      <script>// Copyright 2017 Google LLC\n",
              "//\n",
              "// Licensed under the Apache License, Version 2.0 (the \"License\");\n",
              "// you may not use this file except in compliance with the License.\n",
              "// You may obtain a copy of the License at\n",
              "//\n",
              "//      http://www.apache.org/licenses/LICENSE-2.0\n",
              "//\n",
              "// Unless required by applicable law or agreed to in writing, software\n",
              "// distributed under the License is distributed on an \"AS IS\" BASIS,\n",
              "// WITHOUT WARRANTIES OR CONDITIONS OF ANY KIND, either express or implied.\n",
              "// See the License for the specific language governing permissions and\n",
              "// limitations under the License.\n",
              "\n",
              "/**\n",
              " * @fileoverview Helpers for google.colab Python module.\n",
              " */\n",
              "(function(scope) {\n",
              "function span(text, styleAttributes = {}) {\n",
              "  const element = document.createElement('span');\n",
              "  element.textContent = text;\n",
              "  for (const key of Object.keys(styleAttributes)) {\n",
              "    element.style[key] = styleAttributes[key];\n",
              "  }\n",
              "  return element;\n",
              "}\n",
              "\n",
              "// Max number of bytes which will be uploaded at a time.\n",
              "const MAX_PAYLOAD_SIZE = 100 * 1024;\n",
              "\n",
              "function _uploadFiles(inputId, outputId) {\n",
              "  const steps = uploadFilesStep(inputId, outputId);\n",
              "  const outputElement = document.getElementById(outputId);\n",
              "  // Cache steps on the outputElement to make it available for the next call\n",
              "  // to uploadFilesContinue from Python.\n",
              "  outputElement.steps = steps;\n",
              "\n",
              "  return _uploadFilesContinue(outputId);\n",
              "}\n",
              "\n",
              "// This is roughly an async generator (not supported in the browser yet),\n",
              "// where there are multiple asynchronous steps and the Python side is going\n",
              "// to poll for completion of each step.\n",
              "// This uses a Promise to block the python side on completion of each step,\n",
              "// then passes the result of the previous step as the input to the next step.\n",
              "function _uploadFilesContinue(outputId) {\n",
              "  const outputElement = document.getElementById(outputId);\n",
              "  const steps = outputElement.steps;\n",
              "\n",
              "  const next = steps.next(outputElement.lastPromiseValue);\n",
              "  return Promise.resolve(next.value.promise).then((value) => {\n",
              "    // Cache the last promise value to make it available to the next\n",
              "    // step of the generator.\n",
              "    outputElement.lastPromiseValue = value;\n",
              "    return next.value.response;\n",
              "  });\n",
              "}\n",
              "\n",
              "/**\n",
              " * Generator function which is called between each async step of the upload\n",
              " * process.\n",
              " * @param {string} inputId Element ID of the input file picker element.\n",
              " * @param {string} outputId Element ID of the output display.\n",
              " * @return {!Iterable<!Object>} Iterable of next steps.\n",
              " */\n",
              "function* uploadFilesStep(inputId, outputId) {\n",
              "  const inputElement = document.getElementById(inputId);\n",
              "  inputElement.disabled = false;\n",
              "\n",
              "  const outputElement = document.getElementById(outputId);\n",
              "  outputElement.innerHTML = '';\n",
              "\n",
              "  const pickedPromise = new Promise((resolve) => {\n",
              "    inputElement.addEventListener('change', (e) => {\n",
              "      resolve(e.target.files);\n",
              "    });\n",
              "  });\n",
              "\n",
              "  const cancel = document.createElement('button');\n",
              "  inputElement.parentElement.appendChild(cancel);\n",
              "  cancel.textContent = 'Cancel upload';\n",
              "  const cancelPromise = new Promise((resolve) => {\n",
              "    cancel.onclick = () => {\n",
              "      resolve(null);\n",
              "    };\n",
              "  });\n",
              "\n",
              "  // Wait for the user to pick the files.\n",
              "  const files = yield {\n",
              "    promise: Promise.race([pickedPromise, cancelPromise]),\n",
              "    response: {\n",
              "      action: 'starting',\n",
              "    }\n",
              "  };\n",
              "\n",
              "  cancel.remove();\n",
              "\n",
              "  // Disable the input element since further picks are not allowed.\n",
              "  inputElement.disabled = true;\n",
              "\n",
              "  if (!files) {\n",
              "    return {\n",
              "      response: {\n",
              "        action: 'complete',\n",
              "      }\n",
              "    };\n",
              "  }\n",
              "\n",
              "  for (const file of files) {\n",
              "    const li = document.createElement('li');\n",
              "    li.append(span(file.name, {fontWeight: 'bold'}));\n",
              "    li.append(span(\n",
              "        `(${file.type || 'n/a'}) - ${file.size} bytes, ` +\n",
              "        `last modified: ${\n",
              "            file.lastModifiedDate ? file.lastModifiedDate.toLocaleDateString() :\n",
              "                                    'n/a'} - `));\n",
              "    const percent = span('0% done');\n",
              "    li.appendChild(percent);\n",
              "\n",
              "    outputElement.appendChild(li);\n",
              "\n",
              "    const fileDataPromise = new Promise((resolve) => {\n",
              "      const reader = new FileReader();\n",
              "      reader.onload = (e) => {\n",
              "        resolve(e.target.result);\n",
              "      };\n",
              "      reader.readAsArrayBuffer(file);\n",
              "    });\n",
              "    // Wait for the data to be ready.\n",
              "    let fileData = yield {\n",
              "      promise: fileDataPromise,\n",
              "      response: {\n",
              "        action: 'continue',\n",
              "      }\n",
              "    };\n",
              "\n",
              "    // Use a chunked sending to avoid message size limits. See b/62115660.\n",
              "    let position = 0;\n",
              "    do {\n",
              "      const length = Math.min(fileData.byteLength - position, MAX_PAYLOAD_SIZE);\n",
              "      const chunk = new Uint8Array(fileData, position, length);\n",
              "      position += length;\n",
              "\n",
              "      const base64 = btoa(String.fromCharCode.apply(null, chunk));\n",
              "      yield {\n",
              "        response: {\n",
              "          action: 'append',\n",
              "          file: file.name,\n",
              "          data: base64,\n",
              "        },\n",
              "      };\n",
              "\n",
              "      let percentDone = fileData.byteLength === 0 ?\n",
              "          100 :\n",
              "          Math.round((position / fileData.byteLength) * 100);\n",
              "      percent.textContent = `${percentDone}% done`;\n",
              "\n",
              "    } while (position < fileData.byteLength);\n",
              "  }\n",
              "\n",
              "  // All done.\n",
              "  yield {\n",
              "    response: {\n",
              "      action: 'complete',\n",
              "    }\n",
              "  };\n",
              "}\n",
              "\n",
              "scope.google = scope.google || {};\n",
              "scope.google.colab = scope.google.colab || {};\n",
              "scope.google.colab._files = {\n",
              "  _uploadFiles,\n",
              "  _uploadFilesContinue,\n",
              "};\n",
              "})(self);\n",
              "</script> "
            ]
          },
          "metadata": {}
        },
        {
          "output_type": "stream",
          "name": "stdout",
          "text": [
            "Saving Advertising.csv to Advertising.csv\n"
          ]
        },
        {
          "output_type": "execute_result",
          "data": {
            "text/plain": [
              "     Unnamed: 0     TV  Radio  Newspaper  Sales\n",
              "0             1  230.1   37.8       69.2   22.1\n",
              "1             2   44.5   39.3       45.1   10.4\n",
              "2             3   17.2   45.9       69.3    9.3\n",
              "3             4  151.5   41.3       58.5   18.5\n",
              "4             5  180.8   10.8       58.4   12.9\n",
              "..          ...    ...    ...        ...    ...\n",
              "195         196   38.2    3.7       13.8    7.6\n",
              "196         197   94.2    4.9        8.1    9.7\n",
              "197         198  177.0    9.3        6.4   12.8\n",
              "198         199  283.6   42.0       66.2   25.5\n",
              "199         200  232.1    8.6        8.7   13.4\n",
              "\n",
              "[200 rows x 5 columns]"
            ],
            "text/html": [
              "\n",
              "  <div id=\"df-309649d5-04c8-4faf-9d9e-0bdc9044d15c\" class=\"colab-df-container\">\n",
              "    <div>\n",
              "<style scoped>\n",
              "    .dataframe tbody tr th:only-of-type {\n",
              "        vertical-align: middle;\n",
              "    }\n",
              "\n",
              "    .dataframe tbody tr th {\n",
              "        vertical-align: top;\n",
              "    }\n",
              "\n",
              "    .dataframe thead th {\n",
              "        text-align: right;\n",
              "    }\n",
              "</style>\n",
              "<table border=\"1\" class=\"dataframe\">\n",
              "  <thead>\n",
              "    <tr style=\"text-align: right;\">\n",
              "      <th></th>\n",
              "      <th>Unnamed: 0</th>\n",
              "      <th>TV</th>\n",
              "      <th>Radio</th>\n",
              "      <th>Newspaper</th>\n",
              "      <th>Sales</th>\n",
              "    </tr>\n",
              "  </thead>\n",
              "  <tbody>\n",
              "    <tr>\n",
              "      <th>0</th>\n",
              "      <td>1</td>\n",
              "      <td>230.1</td>\n",
              "      <td>37.8</td>\n",
              "      <td>69.2</td>\n",
              "      <td>22.1</td>\n",
              "    </tr>\n",
              "    <tr>\n",
              "      <th>1</th>\n",
              "      <td>2</td>\n",
              "      <td>44.5</td>\n",
              "      <td>39.3</td>\n",
              "      <td>45.1</td>\n",
              "      <td>10.4</td>\n",
              "    </tr>\n",
              "    <tr>\n",
              "      <th>2</th>\n",
              "      <td>3</td>\n",
              "      <td>17.2</td>\n",
              "      <td>45.9</td>\n",
              "      <td>69.3</td>\n",
              "      <td>9.3</td>\n",
              "    </tr>\n",
              "    <tr>\n",
              "      <th>3</th>\n",
              "      <td>4</td>\n",
              "      <td>151.5</td>\n",
              "      <td>41.3</td>\n",
              "      <td>58.5</td>\n",
              "      <td>18.5</td>\n",
              "    </tr>\n",
              "    <tr>\n",
              "      <th>4</th>\n",
              "      <td>5</td>\n",
              "      <td>180.8</td>\n",
              "      <td>10.8</td>\n",
              "      <td>58.4</td>\n",
              "      <td>12.9</td>\n",
              "    </tr>\n",
              "    <tr>\n",
              "      <th>...</th>\n",
              "      <td>...</td>\n",
              "      <td>...</td>\n",
              "      <td>...</td>\n",
              "      <td>...</td>\n",
              "      <td>...</td>\n",
              "    </tr>\n",
              "    <tr>\n",
              "      <th>195</th>\n",
              "      <td>196</td>\n",
              "      <td>38.2</td>\n",
              "      <td>3.7</td>\n",
              "      <td>13.8</td>\n",
              "      <td>7.6</td>\n",
              "    </tr>\n",
              "    <tr>\n",
              "      <th>196</th>\n",
              "      <td>197</td>\n",
              "      <td>94.2</td>\n",
              "      <td>4.9</td>\n",
              "      <td>8.1</td>\n",
              "      <td>9.7</td>\n",
              "    </tr>\n",
              "    <tr>\n",
              "      <th>197</th>\n",
              "      <td>198</td>\n",
              "      <td>177.0</td>\n",
              "      <td>9.3</td>\n",
              "      <td>6.4</td>\n",
              "      <td>12.8</td>\n",
              "    </tr>\n",
              "    <tr>\n",
              "      <th>198</th>\n",
              "      <td>199</td>\n",
              "      <td>283.6</td>\n",
              "      <td>42.0</td>\n",
              "      <td>66.2</td>\n",
              "      <td>25.5</td>\n",
              "    </tr>\n",
              "    <tr>\n",
              "      <th>199</th>\n",
              "      <td>200</td>\n",
              "      <td>232.1</td>\n",
              "      <td>8.6</td>\n",
              "      <td>8.7</td>\n",
              "      <td>13.4</td>\n",
              "    </tr>\n",
              "  </tbody>\n",
              "</table>\n",
              "<p>200 rows × 5 columns</p>\n",
              "</div>\n",
              "    <div class=\"colab-df-buttons\">\n",
              "\n",
              "  <div class=\"colab-df-container\">\n",
              "    <button class=\"colab-df-convert\" onclick=\"convertToInteractive('df-309649d5-04c8-4faf-9d9e-0bdc9044d15c')\"\n",
              "            title=\"Convert this dataframe to an interactive table.\"\n",
              "            style=\"display:none;\">\n",
              "\n",
              "  <svg xmlns=\"http://www.w3.org/2000/svg\" height=\"24px\" viewBox=\"0 -960 960 960\">\n",
              "    <path d=\"M120-120v-720h720v720H120Zm60-500h600v-160H180v160Zm220 220h160v-160H400v160Zm0 220h160v-160H400v160ZM180-400h160v-160H180v160Zm440 0h160v-160H620v160ZM180-180h160v-160H180v160Zm440 0h160v-160H620v160Z\"/>\n",
              "  </svg>\n",
              "    </button>\n",
              "\n",
              "  <style>\n",
              "    .colab-df-container {\n",
              "      display:flex;\n",
              "      gap: 12px;\n",
              "    }\n",
              "\n",
              "    .colab-df-convert {\n",
              "      background-color: #E8F0FE;\n",
              "      border: none;\n",
              "      border-radius: 50%;\n",
              "      cursor: pointer;\n",
              "      display: none;\n",
              "      fill: #1967D2;\n",
              "      height: 32px;\n",
              "      padding: 0 0 0 0;\n",
              "      width: 32px;\n",
              "    }\n",
              "\n",
              "    .colab-df-convert:hover {\n",
              "      background-color: #E2EBFA;\n",
              "      box-shadow: 0px 1px 2px rgba(60, 64, 67, 0.3), 0px 1px 3px 1px rgba(60, 64, 67, 0.15);\n",
              "      fill: #174EA6;\n",
              "    }\n",
              "\n",
              "    .colab-df-buttons div {\n",
              "      margin-bottom: 4px;\n",
              "    }\n",
              "\n",
              "    [theme=dark] .colab-df-convert {\n",
              "      background-color: #3B4455;\n",
              "      fill: #D2E3FC;\n",
              "    }\n",
              "\n",
              "    [theme=dark] .colab-df-convert:hover {\n",
              "      background-color: #434B5C;\n",
              "      box-shadow: 0px 1px 3px 1px rgba(0, 0, 0, 0.15);\n",
              "      filter: drop-shadow(0px 1px 2px rgba(0, 0, 0, 0.3));\n",
              "      fill: #FFFFFF;\n",
              "    }\n",
              "  </style>\n",
              "\n",
              "    <script>\n",
              "      const buttonEl =\n",
              "        document.querySelector('#df-309649d5-04c8-4faf-9d9e-0bdc9044d15c button.colab-df-convert');\n",
              "      buttonEl.style.display =\n",
              "        google.colab.kernel.accessAllowed ? 'block' : 'none';\n",
              "\n",
              "      async function convertToInteractive(key) {\n",
              "        const element = document.querySelector('#df-309649d5-04c8-4faf-9d9e-0bdc9044d15c');\n",
              "        const dataTable =\n",
              "          await google.colab.kernel.invokeFunction('convertToInteractive',\n",
              "                                                    [key], {});\n",
              "        if (!dataTable) return;\n",
              "\n",
              "        const docLinkHtml = 'Like what you see? Visit the ' +\n",
              "          '<a target=\"_blank\" href=https://colab.research.google.com/notebooks/data_table.ipynb>data table notebook</a>'\n",
              "          + ' to learn more about interactive tables.';\n",
              "        element.innerHTML = '';\n",
              "        dataTable['output_type'] = 'display_data';\n",
              "        await google.colab.output.renderOutput(dataTable, element);\n",
              "        const docLink = document.createElement('div');\n",
              "        docLink.innerHTML = docLinkHtml;\n",
              "        element.appendChild(docLink);\n",
              "      }\n",
              "    </script>\n",
              "  </div>\n",
              "\n",
              "\n",
              "<div id=\"df-9f7bbc43-45b0-4c7d-94c1-b2c2e4f4e577\">\n",
              "  <button class=\"colab-df-quickchart\" onclick=\"quickchart('df-9f7bbc43-45b0-4c7d-94c1-b2c2e4f4e577')\"\n",
              "            title=\"Suggest charts\"\n",
              "            style=\"display:none;\">\n",
              "\n",
              "<svg xmlns=\"http://www.w3.org/2000/svg\" height=\"24px\"viewBox=\"0 0 24 24\"\n",
              "     width=\"24px\">\n",
              "    <g>\n",
              "        <path d=\"M19 3H5c-1.1 0-2 .9-2 2v14c0 1.1.9 2 2 2h14c1.1 0 2-.9 2-2V5c0-1.1-.9-2-2-2zM9 17H7v-7h2v7zm4 0h-2V7h2v10zm4 0h-2v-4h2v4z\"/>\n",
              "    </g>\n",
              "</svg>\n",
              "  </button>\n",
              "\n",
              "<style>\n",
              "  .colab-df-quickchart {\n",
              "      --bg-color: #E8F0FE;\n",
              "      --fill-color: #1967D2;\n",
              "      --hover-bg-color: #E2EBFA;\n",
              "      --hover-fill-color: #174EA6;\n",
              "      --disabled-fill-color: #AAA;\n",
              "      --disabled-bg-color: #DDD;\n",
              "  }\n",
              "\n",
              "  [theme=dark] .colab-df-quickchart {\n",
              "      --bg-color: #3B4455;\n",
              "      --fill-color: #D2E3FC;\n",
              "      --hover-bg-color: #434B5C;\n",
              "      --hover-fill-color: #FFFFFF;\n",
              "      --disabled-bg-color: #3B4455;\n",
              "      --disabled-fill-color: #666;\n",
              "  }\n",
              "\n",
              "  .colab-df-quickchart {\n",
              "    background-color: var(--bg-color);\n",
              "    border: none;\n",
              "    border-radius: 50%;\n",
              "    cursor: pointer;\n",
              "    display: none;\n",
              "    fill: var(--fill-color);\n",
              "    height: 32px;\n",
              "    padding: 0;\n",
              "    width: 32px;\n",
              "  }\n",
              "\n",
              "  .colab-df-quickchart:hover {\n",
              "    background-color: var(--hover-bg-color);\n",
              "    box-shadow: 0 1px 2px rgba(60, 64, 67, 0.3), 0 1px 3px 1px rgba(60, 64, 67, 0.15);\n",
              "    fill: var(--button-hover-fill-color);\n",
              "  }\n",
              "\n",
              "  .colab-df-quickchart-complete:disabled,\n",
              "  .colab-df-quickchart-complete:disabled:hover {\n",
              "    background-color: var(--disabled-bg-color);\n",
              "    fill: var(--disabled-fill-color);\n",
              "    box-shadow: none;\n",
              "  }\n",
              "\n",
              "  .colab-df-spinner {\n",
              "    border: 2px solid var(--fill-color);\n",
              "    border-color: transparent;\n",
              "    border-bottom-color: var(--fill-color);\n",
              "    animation:\n",
              "      spin 1s steps(1) infinite;\n",
              "  }\n",
              "\n",
              "  @keyframes spin {\n",
              "    0% {\n",
              "      border-color: transparent;\n",
              "      border-bottom-color: var(--fill-color);\n",
              "      border-left-color: var(--fill-color);\n",
              "    }\n",
              "    20% {\n",
              "      border-color: transparent;\n",
              "      border-left-color: var(--fill-color);\n",
              "      border-top-color: var(--fill-color);\n",
              "    }\n",
              "    30% {\n",
              "      border-color: transparent;\n",
              "      border-left-color: var(--fill-color);\n",
              "      border-top-color: var(--fill-color);\n",
              "      border-right-color: var(--fill-color);\n",
              "    }\n",
              "    40% {\n",
              "      border-color: transparent;\n",
              "      border-right-color: var(--fill-color);\n",
              "      border-top-color: var(--fill-color);\n",
              "    }\n",
              "    60% {\n",
              "      border-color: transparent;\n",
              "      border-right-color: var(--fill-color);\n",
              "    }\n",
              "    80% {\n",
              "      border-color: transparent;\n",
              "      border-right-color: var(--fill-color);\n",
              "      border-bottom-color: var(--fill-color);\n",
              "    }\n",
              "    90% {\n",
              "      border-color: transparent;\n",
              "      border-bottom-color: var(--fill-color);\n",
              "    }\n",
              "  }\n",
              "</style>\n",
              "\n",
              "  <script>\n",
              "    async function quickchart(key) {\n",
              "      const quickchartButtonEl =\n",
              "        document.querySelector('#' + key + ' button');\n",
              "      quickchartButtonEl.disabled = true;  // To prevent multiple clicks.\n",
              "      quickchartButtonEl.classList.add('colab-df-spinner');\n",
              "      try {\n",
              "        const charts = await google.colab.kernel.invokeFunction(\n",
              "            'suggestCharts', [key], {});\n",
              "      } catch (error) {\n",
              "        console.error('Error during call to suggestCharts:', error);\n",
              "      }\n",
              "      quickchartButtonEl.classList.remove('colab-df-spinner');\n",
              "      quickchartButtonEl.classList.add('colab-df-quickchart-complete');\n",
              "    }\n",
              "    (() => {\n",
              "      let quickchartButtonEl =\n",
              "        document.querySelector('#df-9f7bbc43-45b0-4c7d-94c1-b2c2e4f4e577 button');\n",
              "      quickchartButtonEl.style.display =\n",
              "        google.colab.kernel.accessAllowed ? 'block' : 'none';\n",
              "    })();\n",
              "  </script>\n",
              "</div>\n",
              "\n",
              "  <div id=\"id_d3909111-e2c2-4f4c-8b8d-57ad669a891f\">\n",
              "    <style>\n",
              "      .colab-df-generate {\n",
              "        background-color: #E8F0FE;\n",
              "        border: none;\n",
              "        border-radius: 50%;\n",
              "        cursor: pointer;\n",
              "        display: none;\n",
              "        fill: #1967D2;\n",
              "        height: 32px;\n",
              "        padding: 0 0 0 0;\n",
              "        width: 32px;\n",
              "      }\n",
              "\n",
              "      .colab-df-generate:hover {\n",
              "        background-color: #E2EBFA;\n",
              "        box-shadow: 0px 1px 2px rgba(60, 64, 67, 0.3), 0px 1px 3px 1px rgba(60, 64, 67, 0.15);\n",
              "        fill: #174EA6;\n",
              "      }\n",
              "\n",
              "      [theme=dark] .colab-df-generate {\n",
              "        background-color: #3B4455;\n",
              "        fill: #D2E3FC;\n",
              "      }\n",
              "\n",
              "      [theme=dark] .colab-df-generate:hover {\n",
              "        background-color: #434B5C;\n",
              "        box-shadow: 0px 1px 3px 1px rgba(0, 0, 0, 0.15);\n",
              "        filter: drop-shadow(0px 1px 2px rgba(0, 0, 0, 0.3));\n",
              "        fill: #FFFFFF;\n",
              "      }\n",
              "    </style>\n",
              "    <button class=\"colab-df-generate\" onclick=\"generateWithVariable('df')\"\n",
              "            title=\"Generate code using this dataframe.\"\n",
              "            style=\"display:none;\">\n",
              "\n",
              "  <svg xmlns=\"http://www.w3.org/2000/svg\" height=\"24px\"viewBox=\"0 0 24 24\"\n",
              "       width=\"24px\">\n",
              "    <path d=\"M7,19H8.4L18.45,9,17,7.55,7,17.6ZM5,21V16.75L18.45,3.32a2,2,0,0,1,2.83,0l1.4,1.43a1.91,1.91,0,0,1,.58,1.4,1.91,1.91,0,0,1-.58,1.4L9.25,21ZM18.45,9,17,7.55Zm-12,3A5.31,5.31,0,0,0,4.9,8.1,5.31,5.31,0,0,0,1,6.5,5.31,5.31,0,0,0,4.9,4.9,5.31,5.31,0,0,0,6.5,1,5.31,5.31,0,0,0,8.1,4.9,5.31,5.31,0,0,0,12,6.5,5.46,5.46,0,0,0,6.5,12Z\"/>\n",
              "  </svg>\n",
              "    </button>\n",
              "    <script>\n",
              "      (() => {\n",
              "      const buttonEl =\n",
              "        document.querySelector('#id_d3909111-e2c2-4f4c-8b8d-57ad669a891f button.colab-df-generate');\n",
              "      buttonEl.style.display =\n",
              "        google.colab.kernel.accessAllowed ? 'block' : 'none';\n",
              "\n",
              "      buttonEl.onclick = () => {\n",
              "        google.colab.notebook.generateWithVariable('df');\n",
              "      }\n",
              "      })();\n",
              "    </script>\n",
              "  </div>\n",
              "\n",
              "    </div>\n",
              "  </div>\n"
            ],
            "application/vnd.google.colaboratory.intrinsic+json": {
              "type": "dataframe",
              "variable_name": "df",
              "summary": "{\n  \"name\": \"df\",\n  \"rows\": 200,\n  \"fields\": [\n    {\n      \"column\": \"Unnamed: 0\",\n      \"properties\": {\n        \"dtype\": \"number\",\n        \"std\": 57,\n        \"min\": 1,\n        \"max\": 200,\n        \"num_unique_values\": 200,\n        \"samples\": [\n          96,\n          16,\n          31\n        ],\n        \"semantic_type\": \"\",\n        \"description\": \"\"\n      }\n    },\n    {\n      \"column\": \"TV\",\n      \"properties\": {\n        \"dtype\": \"number\",\n        \"std\": 85.8542363149081,\n        \"min\": 0.7,\n        \"max\": 296.4,\n        \"num_unique_values\": 190,\n        \"samples\": [\n          287.6,\n          286.0,\n          78.2\n        ],\n        \"semantic_type\": \"\",\n        \"description\": \"\"\n      }\n    },\n    {\n      \"column\": \"Radio\",\n      \"properties\": {\n        \"dtype\": \"number\",\n        \"std\": 14.846809176168723,\n        \"min\": 0.0,\n        \"max\": 49.6,\n        \"num_unique_values\": 167,\n        \"samples\": [\n          8.2,\n          36.9,\n          44.5\n        ],\n        \"semantic_type\": \"\",\n        \"description\": \"\"\n      }\n    },\n    {\n      \"column\": \"Newspaper\",\n      \"properties\": {\n        \"dtype\": \"number\",\n        \"std\": 21.778620838522833,\n        \"min\": 0.3,\n        \"max\": 114.0,\n        \"num_unique_values\": 172,\n        \"samples\": [\n          22.3,\n          5.7,\n          17.0\n        ],\n        \"semantic_type\": \"\",\n        \"description\": \"\"\n      }\n    },\n    {\n      \"column\": \"Sales\",\n      \"properties\": {\n        \"dtype\": \"number\",\n        \"std\": 5.217456565710477,\n        \"min\": 1.6,\n        \"max\": 27.0,\n        \"num_unique_values\": 121,\n        \"samples\": [\n          11.4,\n          21.2,\n          12.9\n        ],\n        \"semantic_type\": \"\",\n        \"description\": \"\"\n      }\n    }\n  ]\n}"
            }
          },
          "metadata": {},
          "execution_count": 6
        }
      ],
      "source": [
        "from google.colab import files\n",
        "import io\n",
        "\n",
        "uploaded = files.upload()\n",
        "file_name = next(iter(uploaded.keys()))\n",
        "df = pd.read_csv(io.BytesIO(uploaded[file_name]))\n",
        "df\n"
      ]
    },
    {
      "cell_type": "markdown",
      "id": "10a62102",
      "metadata": {
        "id": "10a62102"
      },
      "source": [
        "# Histogram for the data.\n",
        "We see that there are over 1000 samples of data. To get a sense of the distribution, we should plot a histogram."
      ]
    },
    {
      "cell_type": "code",
      "execution_count": 7,
      "id": "092f76c9",
      "metadata": {
        "colab": {
          "base_uri": "https://localhost:8080/",
          "height": 503
        },
        "id": "092f76c9",
        "outputId": "62ad568b-3078-47a7-d62b-d35e778b9495"
      },
      "outputs": [
        {
          "output_type": "execute_result",
          "data": {
            "text/plain": [
              "(array([20., 20., 20., 20., 20., 20., 20., 20., 20., 20.]),\n",
              " array([  1. ,  20.9,  40.8,  60.7,  80.6, 100.5, 120.4, 140.3, 160.2,\n",
              "        180.1, 200. ]),\n",
              " <BarContainer object of 10 artists>)"
            ]
          },
          "metadata": {},
          "execution_count": 7
        },
        {
          "output_type": "display_data",
          "data": {
            "text/plain": [
              "<Figure size 640x480 with 1 Axes>"
            ],
            "image/png": "[encoded data removed]"
          },
          "metadata": {}
        }
      ],
      "source": [
        "plt.hist(df[df.columns[0]], bins=10)"
      ]
    },
    {
      "cell_type": "markdown",
      "id": "f5ea9a6d",
      "metadata": {
        "id": "f5ea9a6d"
      },
      "source": [
        "From the histogram, the distribution could be modelled as Gamma$(\\alpha,\\beta)$. The next step is to estimate $\\alpha$ and $\\beta$ from the given samples.\n"
      ]
    },
    {
      "cell_type": "markdown",
      "id": "a0993024",
      "metadata": {
        "id": "a0993024"
      },
      "source": [
        "# Estimator identified by using Methods of moments\n",
        "\n",
        "Suppose $m_1$ and $m_2$ are the first and second moments of the samples. The method of moments estimates are obtained by solving\n",
        "$$m_1=\\frac{\\alpha}{\\beta},$$\n",
        "$$m_2=\\frac{\\alpha^2}{\\beta^2}+\\frac{\\alpha}{\\beta^2}.$$\n",
        "The solution results in\n",
        "$$\\hat{\\alpha}_{MM}=\\frac{m_1^2}{m_2-m_1^2}=\\frac{m_1^2}{s^2},\\hat{\\beta}_{MM}=\\frac{m_1}{m_2-m_1^2}=\\frac{m_1}{s^2}.$$\n",
        "We now compute the values of $m_1$ (sample mean) and $s^2=m_2-m_1^2$ (sample variance) from the data. After that, we can compute the estimates."
      ]
    },
    {
      "cell_type": "code",
      "execution_count": 8,
      "id": "62fbac3f",
      "metadata": {
        "colab": {
          "base_uri": "https://localhost:8080/"
        },
        "id": "62fbac3f",
        "outputId": "762d912d-a3e5-487c-e953-f059bd06195c"
      },
      "outputs": [
        {
          "output_type": "stream",
          "name": "stdout",
          "text": [
            "63.076600000000006\n",
            "4977.10877244\n"
          ]
        }
      ],
      "source": [
        "x = np.array(df)\n",
        "m1 = np.average(x)\n",
        "ss= np.var(x)\n",
        "print(m1)\n",
        "print(ss)"
      ]
    },
    {
      "cell_type": "markdown",
      "id": "42e0b5f5",
      "metadata": {
        "id": "42e0b5f5"
      },
      "source": [
        "# Identifying Estimator using method of moments"
      ]
    },
    {
      "cell_type": "code",
      "execution_count": 9,
      "id": "33bd1c1b",
      "metadata": {
        "colab": {
          "base_uri": "https://localhost:8080/"
        },
        "id": "33bd1c1b",
        "outputId": "bfae3c17-05de-470c-bda2-1870b2f2f4c5"
      },
      "outputs": [
        {
          "output_type": "stream",
          "name": "stdout",
          "text": [
            "0.7993913031580151\n",
            "0.012673341669620985\n"
          ]
        }
      ],
      "source": [
        "alphaMM = m1*m1/ss\n",
        "betaMM = m1/ss\n",
        "print(alphaMM)\n",
        "print(betaMM)"
      ]
    },
    {
      "cell_type": "markdown",
      "id": "3873ef2e",
      "metadata": {
        "id": "3873ef2e"
      },
      "source": [
        "# Plotting the estimate to check if it gives reasonable fit\n",
        "\n",
        "We can plot the density of the Gamma on top of the density histogram to check if the estimate gives a reasonable fit."
      ]
    },
    {
      "cell_type": "code",
      "execution_count": 10,
      "id": "bee4462b",
      "metadata": {
        "colab": {
          "base_uri": "https://localhost:8080/",
          "height": 431
        },
        "id": "bee4462b",
        "outputId": "6882b0d9-1da8-4cfc-8a6b-61ee7445742a"
      },
      "outputs": [
        {
          "output_type": "display_data",
          "data": {
            "text/plain": [
              "<Figure size 640x480 with 1 Axes>"
            ],
            "image/png": "[encoded data removed]"
          },
          "metadata": {}
        }
      ],
      "source": [
        "fig, ax = plt.subplots(1,1)\n",
        "ax.hist(x,density=True, bins=10)\n",
        "xx = np.linspace(0,100,50)\n",
        "ax.plot(xx, st.gamma.pdf(xx,alphaMM,scale=1/betaMM),label='gamma fit MM')\n",
        "ax.legend (loc='best')\n",
        "plt.show()"
      ]
    },
    {
      "cell_type": "markdown",
      "id": "1bcb45d9",
      "metadata": {
        "id": "1bcb45d9"
      },
      "source": [
        "# Bootstrap\n",
        "\n",
        "How do we find the bias and variance of the estimator?\n",
        "Theoretical derivations of the sampling distributions may be too cumbersome and difficult in most cases.\n",
        "\n",
        "Bootstrap is a Monte Carlo simulation method for computing metrics such as bias, variance and confidence intervals for estimators.\n",
        "\n",
        "In the above example, we have found $\\hat{\\alpha}_{MM}=1.9038...$ and $\\hat{\\beta}_{MM}=0.3192...$.\n",
        "\n",
        "Using these values, we simulate $n=1000$ *iid* samples from Gamma$(1.9038...,0.3192...)$ and, using the simulated samples, we compute new estimates of $\\alpha$ and $\\beta$ and call them $\\hat{\\alpha}_{MM}(1)$ and $\\hat{\\beta}_{MM}(1)$.\n",
        "\n",
        "Now, repeat the simulation $N$ times to get estimates $\\hat{\\alpha}_{MM}(i)$ and $\\hat{\\beta}_{MM}(i)$, $i=1,2,\\ldots,N$.\n",
        "\n",
        "The sample variance of $\\{\\hat{\\alpha}_{MM}(1), \\hat{\\alpha}_{MM}(2),\\ldots,\\hat{\\alpha}_{MM}(N)\\}$ is taken to be the bootstrap estimate for the variance of the estimator."
      ]
    },
    {
      "cell_type": "code",
      "execution_count": 11,
      "id": "2c49c44f",
      "metadata": {
        "id": "2c49c44f"
      },
      "outputs": [],
      "source": [
        "N = 1000\n",
        "n = 1000\n",
        "alpha_hat = np.zeros(N)\n",
        "beta_hat = np.zeros(N)\n",
        "for i in np.arange(N):\n",
        "  xi = st.gamma.rvs(alphaMM, scale=1/betaMM, size=n)\n",
        "  mli = np.average(xi); ssi = np.var(xi)\n",
        "  alpha_hat[i] =mli * mli/ssi; beta_hat[i]= mli/ssi"
      ]
    },
    {
      "cell_type": "markdown",
      "id": "7ef85919",
      "metadata": {
        "id": "7ef85919"
      },
      "source": [
        "# Histogram of estimates\n",
        "\n",
        "We can see the histograms of the estimates to get an idea of the spread of the values."
      ]
    },
    {
      "cell_type": "code",
      "execution_count": 12,
      "id": "16af6089",
      "metadata": {
        "colab": {
          "base_uri": "https://localhost:8080/",
          "height": 557
        },
        "id": "16af6089",
        "outputId": "0c550d88-eaa6-4d36-fd36-f5d37ab6267d"
      },
      "outputs": [
        {
          "output_type": "execute_result",
          "data": {
            "text/plain": [
              "(array([ 10.3346067 ,  48.22816458, 141.23962484, 251.47542959,\n",
              "        382.38044773, 425.44130896, 260.08760183, 127.46014924,\n",
              "         44.78329568,  31.00382009]),\n",
              " array([0.00980893, 0.0103895 , 0.01097008, 0.01155065, 0.01213122,\n",
              "        0.0127118 , 0.01329237, 0.01387295, 0.01445352, 0.01503409,\n",
              "        0.01561467]),\n",
              " <BarContainer object of 10 artists>)"
            ]
          },
          "metadata": {},
          "execution_count": 12
        },
        {
          "output_type": "display_data",
          "data": {
            "text/plain": [
              "<Figure size 640x480 with 2 Axes>"
            ],
            "image/png": "[encoded data removed]"
          },
          "metadata": {}
        }
      ],
      "source": [
        "ax1 = plt.subplot(121)\n",
        "ax1.hist(alpha_hat, density= True)\n",
        "ax2 = plt.subplot(122)\n",
        "ax2.hist(beta_hat, density= True)"
      ]
    },
    {
      "cell_type": "markdown",
      "id": "b7b6a5a2",
      "metadata": {
        "id": "b7b6a5a2"
      },
      "source": [
        "Notice how the histograms look roughly normal.\n",
        "\n",
        "The sample standard deviations of the estimates is a bootstrap estimate for the standard error of the estimator."
      ]
    },
    {
      "cell_type": "code",
      "execution_count": 13,
      "id": "4ae22a0b",
      "metadata": {
        "colab": {
          "base_uri": "https://localhost:8080/"
        },
        "id": "4ae22a0b",
        "outputId": "584a2156-2430-4acd-dfea-2396aa645a67"
      },
      "outputs": [
        {
          "output_type": "stream",
          "name": "stdout",
          "text": [
            "0.052602257901891686\n",
            "0.0009771881742246214\n"
          ]
        }
      ],
      "source": [
        "print(np.sqrt(np.var(alpha_hat)))\n",
        "print(np.sqrt(np.var(beta_hat)))"
      ]
    },
    {
      "cell_type": "markdown",
      "id": "ce2ea81b",
      "metadata": {
        "id": "ce2ea81b"
      },
      "source": [
        "# Confidence intervals\n",
        "\n",
        "Suppose a parameter $\\theta$ is estimated as $\\hat{\\theta}$, and suppose the distribution of $\\hat{\\theta}-\\theta$ is known. Then, to obtain $(100(1-\\alpha))$% confidence intervals (typical values are $\\alpha=0.1$ for 90% confidence intervals and $\\alpha=0.05$ for 95% confidence intervals), we use the CDF of $\\hat{\\theta}-\\theta$ to obtain $\\delta_1$ and $\\delta_2$ such that\n",
        "$$P(\\hat{\\theta}-\\theta\\le\\delta_1)=1-\\frac{\\alpha}{2},$$\n",
        "$$P(\\hat{\\theta}-\\theta\\le\\delta_2)=\\frac{\\alpha}{2}.$$\n",
        "Actually, the inverse of the CDF of $\\hat{\\theta}-\\theta$ is used to find the above $\\delta_1$ and $\\delta_2$. From the above, we see that\n",
        "$$P(\\hat{\\theta}-\\theta \\le \\delta_1)-P(\\hat{\\theta}-\\theta \\le \\delta_2)= P(\\delta_2< \\hat{\\theta}-\\theta \\le \\delta_1)=1-\\frac{\\alpha}{2}-\\frac{\\alpha}{2}=1-\\alpha.$$\n",
        "The above is rewritten as\n",
        "$$P(\\hat{\\theta}-\\delta_1\\le\\theta<\\hat{\\theta}-\\delta_2)=1-\\alpha,$$\n",
        "and $[\\hat{\\theta}-\\delta_1,\\hat{\\theta}-\\delta_2]$ is interpreted as the $100(1-\\alpha)$% confidence interval.\n",
        "\n",
        "## Bootstrap confidence intervals\n",
        "The CDF of $\\hat{\\theta}-\\theta$ might be difficult to determine in many cases, and the bootstrap method is used often to estimate $\\delta_1$ and $\\delta_2$. We consider the list of numbers $\\{\\hat{\\alpha}_{MM}(1)-1.0123...,\\ldots,\\hat{\\alpha}_{MM}(N)-1.0123...\\}$ and pick the $100(\\alpha/2)$-th percentile and $100(1-\\alpha/2)$-th percentile."
      ]
    },
    {
      "cell_type": "code",
      "execution_count": 14,
      "id": "099fbff6",
      "metadata": {
        "colab": {
          "base_uri": "https://localhost:8080/"
        },
        "id": "099fbff6",
        "outputId": "3d878f9c-5c61-4409-e3ea-8176fcfed3eb"
      },
      "outputs": [
        {
          "output_type": "stream",
          "name": "stdout",
          "text": [
            "[0.10576010888018854, -0.09798309612974064]\n"
          ]
        }
      ],
      "source": [
        "del1 = np.percentile(alpha_hat - alphaMM, 97.5)\n",
        "del2 = np.percentile(alpha_hat - alphaMM, 2.5)\n",
        "print([del1, del2])"
      ]
    },
    {
      "cell_type": "markdown",
      "id": "9ece9d3a",
      "metadata": {
        "id": "9ece9d3a"
      },
      "source": [
        "# **Maximum Likelihood**\n",
        "\n",
        "We now turn to the maximum likelihood estimator for $\\alpha$ and $\\beta$. The likelihood $L(x_1,\\ldots,x_n)$ can be written as\n",
        "$$L = \\frac{\\beta^\\alpha}{\\Gamma(\\alpha)}x_1^{\\alpha-1}e^{-\\beta x_1}\\,\\frac{\\beta^\\alpha}{\\Gamma(\\alpha)}x_2^{\\alpha-1}e^{-\\beta x_2}\\cdots \\frac{\\beta^\\alpha}{\\Gamma(\\alpha)}x_n^{\\alpha-1}e^{-\\beta x_n}= \\frac{\\beta^{n\\alpha}}{\\Gamma(\\alpha)^n}(x_1\\cdots x_n)^{\\alpha-1}e^{-\\beta(x_1+\\cdots+x_n)},$$\n",
        "$$\\log L = n\\alpha\\log\\beta-n\\log\\Gamma(\\alpha)+(\\alpha-1)\\log(x_1\\cdots x_n)-\\beta(x_1+\\cdots+x_n).$$\n",
        "Differentiating $\\log L$ with respect to $\\beta$ and equating to zero, we get\n",
        "$$n\\alpha\\frac{1}{\\beta}-(x_1+\\cdots+x_n)=0,\\text{or }\\alpha=\\beta \\frac{x_1+\\cdots+x_n}{n}.$$\n",
        "Differentiating $\\log L$ with respect to $\\alpha$ and equating to zero, we get\n",
        "$$n\\log\\beta-n\\frac{\\Gamma'(\\alpha)}{\\Gamma(\\alpha)}+\\log(x_1\\cdots x_n)=0.$$\n",
        "So, we get two equations in the two variables $\\alpha$ and $\\beta$. However, the equations do not have a closed form solution, and we need to solve them numerically or approximately. From the first equation, we have $\\log\\beta=\\log\\alpha-\\log\\frac{x_1+\\cdots+x_n}{n}$. Using this in the second equation, we get\n",
        "$$\\log\\alpha - \\frac{\\Gamma'(\\alpha)}{\\Gamma(\\alpha)}=\\log\\frac{x_1+\\cdots+x_n}{n}-\\frac{1}{n}\\log(x_1\\cdots x_n).$$\n",
        "We will now solve the above equation to find the ML estimate of $\\alpha$. This will be a numerical solution."
      ]
    },
    {
      "cell_type": "markdown",
      "id": "dfd09d91",
      "metadata": {
        "id": "dfd09d91"
      },
      "source": [
        "Estimators for the unknown parameter(s) by maximum likelihood"
      ]
    },
    {
      "cell_type": "code",
      "execution_count": 15,
      "id": "b8f579fc",
      "metadata": {
        "colab": {
          "base_uri": "https://localhost:8080/"
        },
        "id": "b8f579fc",
        "outputId": "8fb4e164-20fb-4fca-b1e5-7cd3b725492f"
      },
      "outputs": [
        {
          "output_type": "stream",
          "name": "stderr",
          "text": [
            "<ipython-input-15-7d620bcf4592>:1: RuntimeWarning: divide by zero encountered in log\n",
            "  lm1 = np.average(np.log(x))\n"
          ]
        }
      ],
      "source": [
        "lm1 = np.average(np.log(x))\n",
        "from scipy.special import digamma\n",
        "fML = lambda a: (np.log(a) - digamma(a) - np.log(m1)+lm1)"
      ]
    },
    {
      "cell_type": "code",
      "execution_count": 16,
      "id": "09aa4111",
      "metadata": {
        "colab": {
          "base_uri": "https://localhost:8080/",
          "height": 430
        },
        "id": "09aa4111",
        "outputId": "528fa12c-f692-4743-d41d-ae4985a6cedc"
      },
      "outputs": [
        {
          "output_type": "display_data",
          "data": {
            "text/plain": [
              "<Figure size 640x480 with 1 Axes>"
            ],
            "image/png": "[encoded data removed]"
          },
          "metadata": {}
        }
      ],
      "source": [
        "fig, ax = plt.subplots(1,1)\n",
        "\n",
        "xx = np.linspace(0.1, 10, 100)\n",
        "yy = fML(xx)\n",
        "\n",
        "ax.plot(xx, yy)\n",
        "# ax.plot(xx, fML(xx))\n",
        "ax.grid(True)\n",
        "plt.show()"
      ]
    },
    {
      "cell_type": "markdown",
      "id": "11043b12",
      "metadata": {
        "id": "11043b12"
      },
      "source": [
        "#For solving numerically, we will use scipy.optimize"
      ]
    },
    {
      "cell_type": "code",
      "execution_count": 17,
      "id": "97b7648d",
      "metadata": {
        "colab": {
          "base_uri": "https://localhost:8080/",
          "height": 448
        },
        "id": "97b7648d",
        "outputId": "80c847fc-5417-4981-d71d-44685afe657a"
      },
      "outputs": [
        {
          "output_type": "display_data",
          "data": {
            "text/plain": [
              "<Figure size 640x480 with 1 Axes>"
            ],
            "image/png": "[encoded data removed]"
          },
          "metadata": {}
        },
        {
          "output_type": "stream",
          "name": "stdout",
          "text": [
            "3.7016438100088584\n"
          ]
        }
      ],
      "source": [
        "import numpy as np\n",
        "from scipy.special import digamma\n",
        "import scipy.optimize as sopt\n",
        "import matplotlib.pyplot as plt\n",
        "\n",
        "# Assuming you have defined x, m1, and lm1 somewhere before this\n",
        "# For example:\n",
        "# x = np.array([1, 2, 3, 4, 5])  # Replace with your actual data\n",
        "# Check for and handle zero or negative values in x before taking the logarithm\n",
        "x = np.array([1, 2, 3, 4, 5]) # Replace with your actual data. Ensure values are positive\n",
        "x = np.where(x <= 0, 1e-10, x) # Replace zero or negative with small positive number\n",
        "\n",
        "\n",
        "m1 = np.mean(x)\n",
        "lm1 = np.mean(np.log(x))\n",
        "\n",
        "# Define the function for which you want to find the root\n",
        "fML = lambda a: (np.log(a) - digamma(a) - np.log(m1) + lm1)\n",
        "\n",
        "# Plot the function to visualize it and find a suitable bracket\n",
        "fig, ax = plt.subplots(1, 1)\n",
        "xx = np.linspace(0.1, 10, 100)\n",
        "yy = fML(xx)\n",
        "ax.plot(xx, yy)\n",
        "ax.grid(True)\n",
        "plt.show()\n",
        "\n",
        "# Based on the plot, choose a new bracket where the function crosses the x-axis\n",
        "# For example, if the plot shows a root between 1 and 5, use:\n",
        "# If the plot doesn't show a clear root crossing, adjust the bracket or the function\n",
        "sol = sopt.root_scalar(fML, bracket=[0.1, 10])  # Adjust bracket if needed\n",
        "\n",
        "# Print the root\n",
        "print(sol.root)"
      ]
    },
    {
      "cell_type": "code",
      "execution_count": 18,
      "id": "825783d9",
      "metadata": {
        "colab": {
          "base_uri": "https://localhost:8080/"
        },
        "id": "825783d9",
        "outputId": "31dcae6d-dcbe-41a9-9b2c-ba64041a17af"
      },
      "outputs": [
        {
          "output_type": "stream",
          "name": "stdout",
          "text": [
            "[3.7016438100088584, 1.233881270002953]\n"
          ]
        }
      ],
      "source": [
        "alphaML =  sol.root\n",
        "betaML = alphaML/m1\n",
        "print([alphaML, betaML])"
      ]
    },
    {
      "cell_type": "code",
      "execution_count": 19,
      "id": "58477f3c",
      "metadata": {
        "colab": {
          "base_uri": "https://localhost:8080/",
          "height": 430
        },
        "id": "58477f3c",
        "outputId": "0f90e893-67b6-4f48-a1a0-2c27db7234da"
      },
      "outputs": [
        {
          "output_type": "display_data",
          "data": {
            "text/plain": [
              "<Figure size 640x480 with 1 Axes>"
            ],
            "image/png": "[encoded data removed]"
          },
          "metadata": {}
        }
      ],
      "source": [
        "fig,ax = plt.subplots(1,1)\n",
        "ax.hist(x, density=True, bins=50)\n",
        "xx = np.linspace(0,100,50)\n",
        "ax.plot(xx, st.gamma.pdf(xx,alphaMM,scale=1/betaMM), lw='4', alpha=0.5, label='gamma fit MM')\n",
        "ax.plot(xx, st.gamma.pdf(xx, alphaML, scale=1/betaML), lw='1', label='gamma fit ML')\n",
        "ax.legend(loc ='best')\n",
        "plt.show()\n"
      ]
    },
    {
      "cell_type": "code",
      "execution_count": 19,
      "id": "6a3f88d2",
      "metadata": {
        "id": "6a3f88d2"
      },
      "outputs": [],
      "source": []
    }
  ],
  "metadata": {
    "colab": {
      "provenance": []
    },
    "language_info": {
      "name": "python"
    },
    "kernelspec": {
      "name": "python3",
      "display_name": "Python 3"
    }
  },
  "nbformat": 4,
  "nbformat_minor": 5
}